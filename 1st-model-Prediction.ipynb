{
 "cells": [
  {
   "cell_type": "markdown",
   "id": "8380201d",
   "metadata": {},
   "source": [
    "## কোডে প্রথম মডেল এবং প্রেডিকশন"
   ]
  },
  {
   "cell_type": "markdown",
   "id": "19d29329",
   "metadata": {},
   "source": [
    "প্রথমে কিছু লাইব্রেরি ইমপোর্ট করে নেই"
   ]
  },
  {
   "cell_type": "code",
   "execution_count": 1,
   "id": "d54fa940",
   "metadata": {},
   "outputs": [],
   "source": [
    "import numpy as np"
   ]
  },
  {
   "cell_type": "code",
   "execution_count": 2,
   "id": "2d3c12a2",
   "metadata": {},
   "outputs": [],
   "source": [
    "import pandas as pd"
   ]
  },
  {
   "cell_type": "markdown",
   "id": "40bd2ac7",
   "metadata": {},
   "source": [
    "ডাটাসেটগুলো ইমপোর্ট করে নিয়ে আসি"
   ]
  },
  {
   "cell_type": "code",
   "execution_count": 4,
   "id": "bdb07334",
   "metadata": {},
   "outputs": [],
   "source": [
    "from sklearn import datasets"
   ]
  },
  {
   "cell_type": "markdown",
   "id": "8037d4c7",
   "metadata": {},
   "source": [
    "আইরিস ডাটাসেট লোড করে নেই"
   ]
  },
  {
   "cell_type": "code",
   "execution_count": 5,
   "id": "bf57cabb",
   "metadata": {},
   "outputs": [],
   "source": [
    "iris=datasets.load_iris()"
   ]
  },
  {
   "cell_type": "markdown",
   "id": "5c6ff359",
   "metadata": {},
   "source": [
    "ফিচার ম্যাট্রিক্স স্টোর করছি বড় \"X\"এ, রেসপন্স ভেক্টর রাখছি \"y\" তে"
   ]
  },
  {
   "cell_type": "code",
   "execution_count": 6,
   "id": "88f82311",
   "metadata": {},
   "outputs": [],
   "source": [
    "X=iris.data\n",
    "y=iris.target"
   ]
  },
  {
   "cell_type": "markdown",
   "id": "ed3ae596",
   "metadata": {},
   "source": [
    "ক্লাসিফায়ার ইমপোর্ট করে নিয়ে আসছি"
   ]
  },
  {
   "cell_type": "code",
   "execution_count": 7,
   "id": "a69bc9d2",
   "metadata": {},
   "outputs": [],
   "source": [
    "from sklearn.neighbors import KNeighborsClassifier"
   ]
  },
  {
   "cell_type": "markdown",
   "id": "b76ce24b",
   "metadata": {},
   "source": [
    "আমাদের নেইবার সংখ্যা ১"
   ]
  },
  {
   "cell_type": "code",
   "execution_count": 8,
   "id": "0f429f16",
   "metadata": {},
   "outputs": [],
   "source": [
    "knn=KNeighborsClassifier(n_neighbors=1)"
   ]
  },
  {
   "cell_type": "markdown",
   "id": "a6a7f6f8",
   "metadata": {},
   "source": [
    "প্রথম মডেল তৈরি"
   ]
  },
  {
   "cell_type": "code",
   "execution_count": 12,
   "id": "0ac99c9a",
   "metadata": {},
   "outputs": [
    {
     "data": {
      "text/plain": [
       "KNeighborsClassifier(n_neighbors=1)"
      ]
     },
     "execution_count": 12,
     "metadata": {},
     "output_type": "execute_result"
    }
   ],
   "source": [
    "knn.fit(X,y)"
   ]
  },
  {
   "cell_type": "markdown",
   "id": "9dbdc9cf",
   "metadata": {},
   "source": [
    "KNeighborsClassifier(algorithm='auto', leaf_size=30, metric='minkowski',metric_params=None, n_jobs=1, n_neighbors=1, p=2,weights='uniform')"
   ]
  },
  {
   "cell_type": "markdown",
   "id": "56cf6a3f",
   "metadata": {},
   "source": [
    "প্রথম প্রেডিকশন, আমাদের ডাটাসেটের বাইরের ডাটা দিয়ে"
   ]
  },
  {
   "cell_type": "code",
   "execution_count": 14,
   "id": "a8db7c6d",
   "metadata": {},
   "outputs": [
    {
     "data": {
      "text/plain": [
       "array([2])"
      ]
     },
     "execution_count": 14,
     "metadata": {},
     "output_type": "execute_result"
    }
   ],
   "source": [
    "knn.predict([[3,5,4,2]])"
   ]
  },
  {
   "cell_type": "code",
   "execution_count": 15,
   "id": "04457d2d",
   "metadata": {},
   "outputs": [
    {
     "name": "stdout",
     "output_type": "stream",
     "text": [
      "Predicted target name: ['virginica']\n"
     ]
    }
   ],
   "source": [
    "print(\"Predicted target name:\",iris['target_names'][knn.predict([[3, 5, 4, 2]])])"
   ]
  },
  {
   "cell_type": "markdown",
   "id": "7d2195db",
   "metadata": {},
   "source": [
    "অথবা আমরা এভাবে করতে পারি, আপনার মতো করে তৈরি করুন ইচ্ছেমতো"
   ]
  },
  {
   "cell_type": "code",
   "execution_count": 16,
   "id": "d153930f",
   "metadata": {},
   "outputs": [
    {
     "name": "stdout",
     "output_type": "stream",
     "text": [
      "X_new.shape: (1, 4)\n"
     ]
    }
   ],
   "source": [
    "X_new=np.array([[3,5,4,2]])\n",
    "print('X_new.shape:',X_new.shape)"
   ]
  },
  {
   "cell_type": "code",
   "execution_count": 17,
   "id": "5c1ce9fc",
   "metadata": {},
   "outputs": [],
   "source": [
    "mypredict=knn.predict(X_new)"
   ]
  },
  {
   "cell_type": "code",
   "execution_count": 18,
   "id": "63e752c6",
   "metadata": {},
   "outputs": [
    {
     "name": "stdout",
     "output_type": "stream",
     "text": [
      "Prediction: [2]\n",
      "Predicted target name: ['virginica']\n"
     ]
    }
   ],
   "source": [
    "print(\"Prediction:\", mypredict)\n",
    "print(\"Predicted target name:\",iris['target_names'][mypredict])"
   ]
  },
  {
   "cell_type": "markdown",
   "id": "c77f1e7e",
   "metadata": {},
   "source": [
    "ধাপগুলো নিয়ে ধারণা পরিষ্কার তো? এখন যদি আমরা দুটো \"আউট অফ স্যাম্পল\" ডেটা নিয়ে কাজ করতাম, তাহলে কি করতাম আমরা?"
   ]
  },
  {
   "cell_type": "code",
   "execution_count": 19,
   "id": "9900ae97",
   "metadata": {},
   "outputs": [
    {
     "data": {
      "text/plain": [
       "array([2, 1])"
      ]
     },
     "execution_count": 19,
     "metadata": {},
     "output_type": "execute_result"
    }
   ],
   "source": [
    "X_new = [[3, 5, 4, 2], [5, 4, 3, 2]]\n",
    "knn.predict(X_new)"
   ]
  },
  {
   "cell_type": "markdown",
   "id": "8d4de07f",
   "metadata": {},
   "source": [
    "এখানে আমরা ব্যবহার করেছি \"কে নিয়ারেস্ট নেইবার্স\" ক্লাসিফায়ার। আচ্ছা, আমাদের যদি নেইবার ৩ হয়? তাহলে আগের সিস্টেমে পাল্টে দিলাম n_neighbors=3"
   ]
  },
  {
   "cell_type": "code",
   "execution_count": 20,
   "id": "41ecfdcb",
   "metadata": {},
   "outputs": [],
   "source": [
    "knn = KNeighborsClassifier(n_neighbors=3)"
   ]
  },
  {
   "cell_type": "markdown",
   "id": "3065e705",
   "metadata": {},
   "source": [
    "মডেলে ফিট করি ডাটা"
   ]
  },
  {
   "cell_type": "code",
   "execution_count": 21,
   "id": "679abe10",
   "metadata": {},
   "outputs": [
    {
     "data": {
      "text/plain": [
       "KNeighborsClassifier(n_neighbors=3)"
      ]
     },
     "execution_count": 21,
     "metadata": {},
     "output_type": "execute_result"
    }
   ],
   "source": [
    "knn.fit(X,y)"
   ]
  },
  {
   "cell_type": "markdown",
   "id": "905c9a5c",
   "metadata": {},
   "source": [
    "KNeighborsClassifier(algorithm='auto', leaf_size=30, metric='minkowski',metric_params=None, n_jobs=1, n_neighbors=3, p=2,weights='uniform')"
   ]
  },
  {
   "cell_type": "markdown",
   "id": "afb52bc1",
   "metadata": {},
   "source": [
    "প্রেডিক্ট করি আগের ভ্যালুগুলোকে"
   ]
  },
  {
   "cell_type": "code",
   "execution_count": 22,
   "id": "2fcbfcff",
   "metadata": {},
   "outputs": [
    {
     "data": {
      "text/plain": [
       "array([1, 1])"
      ]
     },
     "execution_count": 22,
     "metadata": {},
     "output_type": "execute_result"
    }
   ],
   "source": [
    "knn.predict(X_new)"
   ]
  },
  {
   "cell_type": "markdown",
   "id": "061e96e7",
   "metadata": {},
   "source": [
    "দেখেছেন কী অবস্থা? পাল্টে গেছে প্রেডিকশন ভ্যালু। নিশ্চয়ই ক্লাসিফায়ারের কোন ভ্যালুতে মডেল ভালো কাজ করবে সেটা জানলে ব্যাপারটা আরো ভালো হতো। সেটা জানতেই তো এতো গল্প।"
   ]
  },
  {
   "cell_type": "markdown",
   "id": "a3e706d5",
   "metadata": {},
   "source": [
    "কেমন হয় অন্য ক্লাসিফায়ার দিয়ে দেখলে? \"লিনিয়ার রিগ্রেশন\" কাজ করে কন্টিনিউয়াস ভাল্যুর (যেমন, আমাদের বয়স বা বেতন) ওপর। সে হিসেবে লজিস্টিক (হ্যাঁ অথবা না, তিন ক্যাটেগরির ফুল) রিগ্রেশন ব্যবহার করা যেতে পারে এখানে। আগের মতোই একই জিনিস করবো আমরা। মডেল হিসেবে ব্যবহার করবো LogisticRegressionকে। সেটা ইমপোর্ট হবে sklearn.linear_model মডিউল থেকে। LogisticRegression() ক্লাসকে পাঠিয়ে দিচ্ছি lr অবজেক্ট। আপনার ঈচ্ছেমতো নাম দিন এই অবজেক্ট হিসেবে"
   ]
  },
  {
   "cell_type": "code",
   "execution_count": 25,
   "id": "d46a16d2",
   "metadata": {},
   "outputs": [
    {
     "name": "stderr",
     "output_type": "stream",
     "text": [
      "C:\\Users\\Md.Hamid Hosen\\anaconda3\\lib\\site-packages\\sklearn\\linear_model\\_logistic.py:763: ConvergenceWarning: lbfgs failed to converge (status=1):\n",
      "STOP: TOTAL NO. of ITERATIONS REACHED LIMIT.\n",
      "\n",
      "Increase the number of iterations (max_iter) or scale the data as shown in:\n",
      "    https://scikit-learn.org/stable/modules/preprocessing.html\n",
      "Please also refer to the documentation for alternative solver options:\n",
      "    https://scikit-learn.org/stable/modules/linear_model.html#logistic-regression\n",
      "  n_iter_i = _check_optimize_result(\n"
     ]
    },
    {
     "data": {
      "text/plain": [
       "array([0, 0])"
      ]
     },
     "execution_count": 25,
     "metadata": {},
     "output_type": "execute_result"
    }
   ],
   "source": [
    "from sklearn.linear_model import LogisticRegression\n",
    "lr=LogisticRegression()\n",
    "\n",
    "lr.fit(X,y)\n",
    "\n",
    "lr.predict(X_new)"
   ]
  },
  {
   "cell_type": "markdown",
   "id": "73a77d4d",
   "metadata": {},
   "source": [
    "দেখেছেন কী অবস্থা? পাল্টে গেছে প্রেডিকশন। এর মানে হচ্ছে আমাদের ব্যবহৃত ক্লাসিফায়ারগুলোর কাজের মধ্যে অনেক ফারাক আছে। সেকারণে আউটকামও ভিন্ন। কোন কাজে কোন ক্লাসিফায়ার ভালো, সেটার ধারণায় আসবে আস্তে আস্তে।"
   ]
  }
 ],
 "metadata": {
  "kernelspec": {
   "display_name": "Python 3",
   "language": "python",
   "name": "python3"
  },
  "language_info": {
   "codemirror_mode": {
    "name": "ipython",
    "version": 3
   },
   "file_extension": ".py",
   "mimetype": "text/x-python",
   "name": "python",
   "nbconvert_exporter": "python",
   "pygments_lexer": "ipython3",
   "version": "3.8.8"
  }
 },
 "nbformat": 4,
 "nbformat_minor": 5
}
